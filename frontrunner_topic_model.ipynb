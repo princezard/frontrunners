{
 "cells": [
  {
   "cell_type": "code",
   "execution_count": 1,
   "id": "533b4676",
   "metadata": {},
   "outputs": [],
   "source": [
    "import pandas as pd\n",
    "\n",
    "\n",
    "#Gensim\n",
    "import gensim\n",
    "import gensim.corpora as corpora\n",
    "from gensim.utils import simple_preprocess\n",
    "from gensim.models import CoherenceModel\n",
    "#spacy\n",
    "import spacy\n",
    "\n",
    "from nltk.corpus import stopwords\n",
    "#vis\n",
    "import pyLDAvis\n",
    "import pyLDAvis.gensim_models as gensimvis\n",
    "stopwords = stopwords.words('english')\n",
    "\n",
    "df = pd.read_csv('C:/Users/LEVEL51PC/Desktop/Essex/Frontrunner/premierleague/cleaned_data.csv',index_col=0)\n",
    "df.dropna(inplace=True)\n",
    "titles = df['title'].tolist()\n",
    "\n",
    "def lemmatization(texts, allowed_postags=[\"NOUN\", \"ADJ\", \"VERB\", \"ADV\"]):\n",
    "    nlp = spacy.load(\"en_core_web_sm\", disable=[\"parser\", \"ner\"])\n",
    "    texts_out = []\n",
    "    for text in texts:\n",
    "        doc = nlp(text)\n",
    "        new_text = []\n",
    "        for token in doc:\n",
    "            if token.pos_ in allowed_postags:\n",
    "                new_text.append(token.lemma_)\n",
    "        final = \" \".join(new_text)\n",
    "        texts_out.append(final)\n",
    "    return (texts_out)\n",
    "\n",
    "\n",
    "def gen_words(texts):\n",
    "    final = []\n",
    "    for text in texts:\n",
    "        new = gensim.utils.simple_preprocess(text, deacc=True)\n",
    "        final.append(new)\n",
    "    return (final)\n",
    "\n",
    "lemmatized_titles = lemmatization(titles)\n",
    "\n",
    "data_words = gen_words(lemmatized_titles)\n",
    "\n",
    "id2word = corpora.Dictionary(data_words)\n",
    "\n",
    "corpus = []\n",
    "for text in data_words:\n",
    "    new = id2word.doc2bow(text)\n",
    "    corpus.append(new)\n",
    "\n",
    "\n",
    "\n"
   ]
  },
  {
   "cell_type": "code",
   "execution_count": 3,
   "id": "6a4a3344",
   "metadata": {},
   "outputs": [
    {
     "name": "stderr",
     "output_type": "stream",
     "text": [
      "C:\\Users\\LEVEL51PC\\Anaconda3\\lib\\site-packages\\pyLDAvis\\_prepare.py:247: FutureWarning: In a future version of pandas all arguments of DataFrame.drop except for the argument 'labels' will be keyword-only\n",
      "  by='saliency', ascending=False).head(R).drop('saliency', 1)\n"
     ]
    },
    {
     "data": {
      "text/html": [
       "\n",
       "<link rel=\"stylesheet\" type=\"text/css\" href=\"https://cdn.jsdelivr.net/gh/bmabey/pyLDAvis@3.3.1/pyLDAvis/js/ldavis.v1.0.0.css\">\n",
       "\n",
       "\n",
       "<div id=\"ldavis_el393221736053539284988167388\"></div>\n",
       "<script type=\"text/javascript\">\n",
       "\n",
       "var ldavis_el393221736053539284988167388_data = {\"mdsDat\": {\"x\": [-0.21568631074632738, 0.11351091970210568, 0.06483506498001716, -0.21698196462317043, -0.35534256604774156, 0.2793143600781513, 0.32897290694975295, -0.3716980249625075, 0.39905097716641813, -0.025975362496698396], \"y\": [0.36471295776505636, -0.4069086146559932, 0.397269189712026, -0.37056499072818827, 0.1358381228670515, 0.26703441870853717, -0.2145500777017635, -0.11729562048011218, 0.038672364758634, -0.09420775024524801], \"topics\": [1, 2, 3, 4, 5, 6, 7, 8, 9, 10], \"cluster\": [1, 1, 1, 1, 1, 1, 1, 1, 1, 1], \"Freq\": [12.533766282572634, 12.187369550524068, 12.062896938294209, 10.869912879701726, 9.946807324886546, 9.65379940281912, 9.082662728810659, 8.308283197264622, 7.812110359490698, 7.542391335635718]}, \"tinfo\": {\"Term\": [\"match\", \"second\", \"target\", \"preview\", \"watch\", \"differential\", \"goal\", \"top\", \"double\", \"win\", \"target\", \"top\", \"win\", \"final\", \"victory\", \"way\", \"again\", \"earn\", \"shortlist\", \"edge\", \"make\", \"stat\", \"seal\", \"race\", \"move\", \"star\", \"run\", \"leicester\", \"captain\", \"sterling\", \"differential\", \"spur\", \"club\", \"help\", \"return\", \"point\", \"deal\", \"draw\", \"form\", \"offer\", \"watch\", \"late\", \"sign\", \"keep\", \"boost\", \"battle\", \"home\", \"good\", \"end\", \"rival\", \"new\", \"fpl\", \"expert\", \"take\", \"shearer\", \"learn\", \"appoint\", \"head\", \"watchlist\", \"go\", \"match\", \"preview\", \"strike\", \"official\", \"rise\", \"season\", \"aim\", \"king\", \"football\", \"challenge\", \"goal\", \"start\", \"hope\", \"threat\", \"player\", \"give\", \"hit\", \"winner\", \"lift\", \"inspire\", \"back\", \"news\", \"team\", \"fixture\", \"manager\", \"eye\", \"statement\", \"squad\", \"matchweek\", \"pair\", \"second\", \"set\", \"record\", \"beat\", \"last\", \"reach\", \"piece\", \"maintain\", \"spot\", \"celebrate\", \"double\", \"wolf\", \"title\", \"gameweek\", \"arsenal\", \"put\", \"lead\", \"safety\", \"play\", \"first\"], \"Freq\": [920.0, 763.0, 918.0, 739.0, 458.0, 415.0, 301.0, 293.0, 227.0, 279.0, 917.4760914112569, 292.89082721303845, 278.26829758216263, 141.0721903399216, 82.02740525079378, 69.62663393165073, 65.71687822168796, 62.22716399924065, 51.75958043072018, 51.26261032714243, 202.95273647359673, 158.79864682313948, 146.37953203470232, 135.75538565562405, 132.1688685992325, 119.96368600568242, 118.69145814312424, 108.26689112746003, 98.89734621515845, 84.53381050469947, 414.3885680180075, 249.30974047623917, 179.77030944595933, 175.05629063908313, 148.80316714890157, 130.0394010398334, 104.96527613535378, 102.0841708905851, 100.55759751971223, 79.70123553777668, 457.28795041598516, 170.68351885954706, 158.75334205857172, 126.42064477567654, 112.25845172504567, 107.17460557850312, 106.02190005009595, 85.2872830894376, 81.7144821573896, 70.13469667855628, 237.58107733652898, 227.03173052715627, 127.90336993598464, 121.92343951145568, 119.52953746160982, 112.93778318771557, 96.33792007277482, 87.39321663341825, 67.59752406018971, 64.39161461021745, 918.9986486490836, 738.5425001229271, 103.2756559345425, 90.52601704290882, 71.63893512677697, 63.83729432351264, 57.56976126618786, 48.911304618354244, 33.54490348283138, 31.730160867725896, 300.69616181191645, 116.6777669219962, 112.92518860918487, 110.54886517133717, 109.29687513466588, 107.67204321164823, 87.47958492106716, 72.15233285440746, 68.55322862786463, 65.84296949141438, 200.4435320338084, 153.99841543887158, 144.34602209249317, 112.0320112286236, 101.38919882814584, 81.64835596938583, 71.76794637084517, 61.92977741134057, 55.89620825005339, 54.291349961982206, 762.6321485220391, 145.59000153770214, 138.24503681369202, 99.93504545637397, 64.1945302938953, 56.88010786121831, 54.26963426304465, 46.61904697625386, 33.58179326362731, 28.336670148706766, 226.49459363287968, 172.4743210490913, 163.4531169074385, 153.9052865420426, 102.81059194207607, 94.93835756950118, 85.20732994672721, 80.45161254183968, 48.46457284139471, 48.44258681022688], \"Total\": [920.0, 763.0, 918.0, 739.0, 458.0, 415.0, 301.0, 293.0, 227.0, 279.0, 918.4901724356844, 293.90415203385936, 279.2815795278158, 142.08549858689292, 83.0407128474122, 70.63997137823075, 66.73015364332446, 63.24043067200624, 52.772882765877426, 52.27592527698032, 203.93741209734736, 159.78328711036207, 147.36423056142286, 136.74018430438727, 133.15354251627835, 120.94833248010217, 119.67613074028621, 109.25158978075135, 99.88201381568973, 85.51849385523457, 415.36999402640885, 250.2912288457365, 180.7517475511312, 176.03777176184937, 149.7846263306735, 131.02083903489918, 105.94679033601194, 103.06567779959269, 101.5390739895441, 80.68273987523197, 458.2805753432152, 171.6762424881094, 159.74599682138842, 127.4133339733287, 113.25113845746058, 108.1673539313601, 107.01457826235327, 86.27992572172099, 82.70716145653357, 71.12736345103085, 238.5696137223709, 228.02025650824, 128.89188738014354, 122.91203503110438, 120.51809607832857, 113.92637304213848, 97.32648099417816, 88.38170395276437, 68.59156375627234, 65.38015250098177, 920.0265175106762, 739.5704257320963, 104.30363222411076, 91.55388681107287, 72.66689575181222, 64.86519745396235, 58.5977611764677, 49.93919515778339, 34.572900731548465, 32.75813496533046, 301.6854488626517, 117.66703046211413, 113.91450641356427, 111.53814344126593, 110.28612929443548, 108.66130038210845, 88.46885020923105, 73.1416539283468, 69.54250634478855, 66.83222612341119, 201.43191215652584, 154.98678091585015, 145.33436891855385, 113.02036065260722, 102.37756357575309, 82.63676731785729, 72.75630591445706, 62.91813292730458, 56.88465813198563, 55.27970968195219, 763.6590405802018, 146.61531585023076, 139.27035557915673, 100.96035104692804, 65.21987689053496, 57.905466737134475, 55.295101778213436, 47.6444521358406, 34.607175212462806, 29.362050292053077, 227.49582098944916, 173.4755379415447, 164.45439154015142, 154.90665136082026, 103.8117944623649, 95.93961256742527, 86.20853298495805, 81.45319331038017, 49.465769375752046, 49.443769504593895], \"Category\": [\"Default\", \"Default\", \"Default\", \"Default\", \"Default\", \"Default\", \"Default\", \"Default\", \"Default\", \"Default\", \"Topic1\", \"Topic1\", \"Topic1\", \"Topic1\", \"Topic1\", \"Topic1\", \"Topic1\", \"Topic1\", \"Topic1\", \"Topic1\", \"Topic2\", \"Topic2\", \"Topic2\", \"Topic2\", \"Topic2\", \"Topic2\", \"Topic2\", \"Topic2\", \"Topic2\", \"Topic2\", \"Topic3\", \"Topic3\", \"Topic3\", \"Topic3\", \"Topic3\", \"Topic3\", \"Topic3\", \"Topic3\", \"Topic3\", \"Topic3\", \"Topic4\", \"Topic4\", \"Topic4\", \"Topic4\", \"Topic4\", \"Topic4\", \"Topic4\", \"Topic4\", \"Topic4\", \"Topic4\", \"Topic5\", \"Topic5\", \"Topic5\", \"Topic5\", \"Topic5\", \"Topic5\", \"Topic5\", \"Topic5\", \"Topic5\", \"Topic5\", \"Topic6\", \"Topic6\", \"Topic6\", \"Topic6\", \"Topic6\", \"Topic6\", \"Topic6\", \"Topic6\", \"Topic6\", \"Topic6\", \"Topic7\", \"Topic7\", \"Topic7\", \"Topic7\", \"Topic7\", \"Topic7\", \"Topic7\", \"Topic7\", \"Topic7\", \"Topic7\", \"Topic8\", \"Topic8\", \"Topic8\", \"Topic8\", \"Topic8\", \"Topic8\", \"Topic8\", \"Topic8\", \"Topic8\", \"Topic8\", \"Topic9\", \"Topic9\", \"Topic9\", \"Topic9\", \"Topic9\", \"Topic9\", \"Topic9\", \"Topic9\", \"Topic9\", \"Topic9\", \"Topic10\", \"Topic10\", \"Topic10\", \"Topic10\", \"Topic10\", \"Topic10\", \"Topic10\", \"Topic10\", \"Topic10\", \"Topic10\"], \"logprob\": [10.0, 9.0, 8.0, 7.0, 6.0, 5.0, 4.0, 3.0, 2.0, 1.0, -1.3416, -2.4835, -2.5347, -3.214, -3.7562, -3.9201, -3.9779, -4.0325, -4.2166, -4.2263, -2.8223, -3.0676, -3.149, -3.2244, -3.2511, -3.348, -3.3587, -3.4506, -3.5411, -3.6981, -2.0982, -2.6063, -2.9333, -2.9599, -3.1223, -3.2571, -3.4713, -3.4992, -3.5142, -3.7467, -1.8955, -2.881, -2.9535, -3.1812, -3.3, -3.3464, -3.3572, -3.5748, -3.6176, -3.7704, -2.4616, -2.507, -3.0808, -3.1287, -3.1485, -3.2052, -3.3642, -3.4617, -3.7185, -3.7671, -1.0789, -1.2975, -3.2648, -3.3965, -3.6305, -3.7458, -3.8492, -4.0122, -4.3893, -4.4449, -2.1351, -3.0818, -3.1145, -3.1357, -3.1471, -3.1621, -3.3698, -3.5624, -3.6136, -3.6539, -2.4515, -2.7151, -2.7799, -3.0333, -3.1331, -3.3497, -3.4786, -3.6261, -3.7286, -3.7577, -1.0537, -2.7097, -2.7615, -3.086, -3.5286, -3.6496, -3.6965, -3.8485, -4.1765, -4.3463, -2.2326, -2.5051, -2.5588, -2.619, -3.0225, -3.1021, -3.2103, -3.2677, -3.7745, -3.775], \"loglift\": [10.0, 9.0, 8.0, 7.0, 6.0, 5.0, 4.0, 3.0, 2.0, 1.0, 2.0756, 2.0733, 2.0731, 2.0696, 2.0645, 2.0623, 2.0614, 2.0606, 2.0574, 2.0572, 2.0999, 2.0986, 2.0981, 2.0975, 2.0973, 2.0966, 2.0965, 2.0957, 2.0949, 2.0932, 2.1127, 2.1111, 2.1096, 2.1094, 2.1085, 2.1075, 2.1057, 2.1055, 2.1053, 2.1028, 2.217, 2.2134, 2.2129, 2.2113, 2.2104, 2.21, 2.2099, 2.2076, 2.2071, 2.2051, 2.3038, 2.3036, 2.3002, 2.2998, 2.2997, 2.2992, 2.2977, 2.2967, 2.2933, 2.2927, 2.3367, 2.3364, 2.3279, 2.3265, 2.3236, 2.3218, 2.3201, 2.317, 2.3076, 2.3059, 2.3955, 2.3904, 2.3901, 2.3899, 2.3898, 2.3897, 2.3876, 2.3852, 2.3845, 2.3839, 2.483, 2.4815, 2.4811, 2.4791, 2.4782, 2.4759, 2.4742, 2.4721, 2.4704, 2.4699, 2.5481, 2.5425, 2.5421, 2.5393, 2.5336, 2.5316, 2.5308, 2.5277, 2.5194, 2.5139, 2.5802, 2.5788, 2.5785, 2.5781, 2.5749, 2.5741, 2.5729, 2.5723, 2.5642, 2.5642]}, \"token.table\": {\"Topic\": [1, 6, 5, 10, 8, 4, 9, 4, 2, 9, 6, 3, 3, 3, 10, 3, 1, 1, 4, 5, 8, 1, 10, 8, 6, 3, 5, 10, 7, 5, 7, 4, 5, 3, 7, 4, 7, 7, 4, 6, 9, 4, 10, 5, 2, 7, 9, 2, 8, 6, 8, 2, 5, 8, 3, 6, 8, 9, 10, 7, 3, 6, 10, 2, 9, 9, 3, 6, 4, 2, 10, 2, 6, 9, 9, 5, 1, 4, 9, 3, 8, 2, 7, 2, 8, 2, 6, 5, 1, 8, 7, 10, 1, 1, 4, 5, 1, 1, 7, 10], \"Freq\": [0.9890581153577562, 0.989798907595334, 0.9863708111027101, 0.992180132647074, 0.9928913341426598, 0.9892078904684969, 0.99048783966211, 0.9889525308575107, 0.991169443005852, 0.9536118806927553, 0.9768565894812744, 0.9958409942846138, 0.9910635297868942, 0.9967017501357555, 0.9934248419028386, 0.9896602067502543, 0.9803854803197075, 0.9755924879335963, 0.9914498159037266, 0.993080345099509, 0.9922943825306234, 0.9923602436723753, 0.9707997687259716, 0.9909718864219207, 0.9834291968730966, 0.9946909700043197, 0.9955255882794644, 0.9941471114838806, 0.9939141131223077, 0.9788903444212517, 0.9977279352874465, 0.9851654285627327, 0.9843666291667921, 0.9941048347098297, 0.9833969786455099, 0.990519251873647, 0.9919719933627753, 0.9875475325051358, 0.988907487707491, 0.9811932259858015, 0.9812959338671797, 0.9960609430966766, 0.9859812834865324, 0.9918686690587802, 0.9885439673393946, 0.9921989244664432, 0.9864737213473841, 0.9954034324172952, 0.9865442824810557, 0.9988842522567136, 0.9844482122063032, 0.9913367493310414, 0.9976123794079084, 0.9936331285157415, 0.9915379686375578, 0.9939501551450693, 0.9768502821502698, 0.9765783634252444, 0.9703680061131211, 0.9883382497630155, 0.9922085750448655, 0.999228706675863, 0.9902062084442448, 0.9945869291594663, 0.9843630180679676, 0.9908784925989889, 0.9947616364249472, 0.9908225644578248, 0.9841500739471807, 0.9943503292084742, 0.9821591609693836, 0.9907424579477295, 0.9866616076428901, 0.9991369962965395, 0.9958031952755925, 0.9957010930707714, 0.9853545471581255, 0.9953301063173275, 0.9824552218222032, 0.9948410943056565, 0.9854074988467094, 0.9921591934286635, 0.9943312034008635, 0.9950978157695488, 0.9896049434485269, 0.9939370558126027, 0.9875015644583717, 0.9925797743819507, 0.9983775847794509, 0.9908186279096747, 0.9951752519392677, 0.9911562620704092, 0.9969236500144605, 0.9874674384199409, 0.9972056957852595, 0.991375561018344, 0.9909403788571186, 0.99541115626035, 0.984391193430419, 0.9914942593114084], \"Term\": [\"again\", \"aim\", \"appoint\", \"arsenal\", \"back\", \"battle\", \"beat\", \"boost\", \"captain\", \"celebrate\", \"challenge\", \"club\", \"deal\", \"differential\", \"double\", \"draw\", \"earn\", \"edge\", \"end\", \"expert\", \"eye\", \"final\", \"first\", \"fixture\", \"football\", \"form\", \"fpl\", \"gameweek\", \"give\", \"go\", \"goal\", \"good\", \"head\", \"help\", \"hit\", \"home\", \"hope\", \"inspire\", \"keep\", \"king\", \"last\", \"late\", \"lead\", \"learn\", \"leicester\", \"lift\", \"maintain\", \"make\", \"manager\", \"match\", \"matchweek\", \"move\", \"new\", \"news\", \"offer\", \"official\", \"pair\", \"piece\", \"play\", \"player\", \"point\", \"preview\", \"put\", \"race\", \"reach\", \"record\", \"return\", \"rise\", \"rival\", \"run\", \"safety\", \"seal\", \"season\", \"second\", \"set\", \"shearer\", \"shortlist\", \"sign\", \"spot\", \"spur\", \"squad\", \"star\", \"start\", \"stat\", \"statement\", \"sterling\", \"strike\", \"take\", \"target\", \"team\", \"threat\", \"title\", \"top\", \"victory\", \"watch\", \"watchlist\", \"way\", \"win\", \"winner\", \"wolf\"]}, \"R\": 10, \"lambda.step\": 0.01, \"plot.opts\": {\"xlab\": \"PC1\", \"ylab\": \"PC2\"}, \"topic.order\": [2, 3, 8, 7, 6, 9, 4, 5, 1, 10]};\n",
       "\n",
       "function LDAvis_load_lib(url, callback){\n",
       "  var s = document.createElement('script');\n",
       "  s.src = url;\n",
       "  s.async = true;\n",
       "  s.onreadystatechange = s.onload = callback;\n",
       "  s.onerror = function(){console.warn(\"failed to load library \" + url);};\n",
       "  document.getElementsByTagName(\"head\")[0].appendChild(s);\n",
       "}\n",
       "\n",
       "if(typeof(LDAvis) !== \"undefined\"){\n",
       "   // already loaded: just create the visualization\n",
       "   !function(LDAvis){\n",
       "       new LDAvis(\"#\" + \"ldavis_el393221736053539284988167388\", ldavis_el393221736053539284988167388_data);\n",
       "   }(LDAvis);\n",
       "}else if(typeof define === \"function\" && define.amd){\n",
       "   // require.js is available: use it to load d3/LDAvis\n",
       "   require.config({paths: {d3: \"https://d3js.org/d3.v5\"}});\n",
       "   require([\"d3\"], function(d3){\n",
       "      window.d3 = d3;\n",
       "      LDAvis_load_lib(\"https://cdn.jsdelivr.net/gh/bmabey/pyLDAvis@3.3.1/pyLDAvis/js/ldavis.v3.0.0.js\", function(){\n",
       "        new LDAvis(\"#\" + \"ldavis_el393221736053539284988167388\", ldavis_el393221736053539284988167388_data);\n",
       "      });\n",
       "    });\n",
       "}else{\n",
       "    // require.js not available: dynamically load d3 & LDAvis\n",
       "    LDAvis_load_lib(\"https://d3js.org/d3.v5.js\", function(){\n",
       "         LDAvis_load_lib(\"https://cdn.jsdelivr.net/gh/bmabey/pyLDAvis@3.3.1/pyLDAvis/js/ldavis.v3.0.0.js\", function(){\n",
       "                 new LDAvis(\"#\" + \"ldavis_el393221736053539284988167388\", ldavis_el393221736053539284988167388_data);\n",
       "            })\n",
       "         });\n",
       "}\n",
       "</script>"
      ],
      "text/plain": [
       "PreparedData(topic_coordinates=              x         y  topics  cluster       Freq\n",
       "topic                                                \n",
       "1     -0.215686  0.364713       1        1  12.533766\n",
       "2      0.113511 -0.406909       2        1  12.187370\n",
       "7      0.064835  0.397269       3        1  12.062897\n",
       "6     -0.216982 -0.370565       4        1  10.869913\n",
       "5     -0.355343  0.135838       5        1   9.946807\n",
       "8      0.279314  0.267034       6        1   9.653799\n",
       "3      0.328973 -0.214550       7        1   9.082663\n",
       "4     -0.371698 -0.117296       8        1   8.308283\n",
       "0      0.399051  0.038672       9        1   7.812110\n",
       "9     -0.025975 -0.094208      10        1   7.542391, topic_info=         Term        Freq       Total Category  logprob  loglift\n",
       "35      match  920.000000  920.000000  Default  10.0000  10.0000\n",
       "620    second  763.000000  763.000000  Default   9.0000   9.0000\n",
       "20     target  918.000000  918.000000  Default   8.0000   8.0000\n",
       "1209  preview  739.000000  739.000000  Default   7.0000   7.0000\n",
       "18      watch  458.000000  458.000000  Default   6.0000   6.0000\n",
       "...       ...         ...         ...      ...      ...      ...\n",
       "553       put   94.938358   95.939613  Topic10  -3.1021   2.5741\n",
       "212      lead   85.207330   86.208533  Topic10  -3.2103   2.5729\n",
       "590    safety   80.451613   81.453193  Topic10  -3.2677   2.5723\n",
       "584      play   48.464573   49.465769  Topic10  -3.7745   2.5642\n",
       "55      first   48.442587   49.443770  Topic10  -3.7750   2.5642\n",
       "\n",
       "[110 rows x 6 columns], token_table=      Topic      Freq       Term\n",
       "term                            \n",
       "113       1  0.989058      again\n",
       "167       6  0.989799        aim\n",
       "89        5  0.986371    appoint\n",
       "184      10  0.992180    arsenal\n",
       "194       8  0.992891       back\n",
       "...     ...       ...        ...\n",
       "463       5  0.991376  watchlist\n",
       "830       1  0.990940        way\n",
       "147       1  0.995411        win\n",
       "870       7  0.984391     winner\n",
       "63       10  0.991494       wolf\n",
       "\n",
       "[100 rows x 3 columns], R=10, lambda_step=0.01, plot_opts={'xlab': 'PC1', 'ylab': 'PC2'}, topic_order=[2, 3, 8, 7, 6, 9, 4, 5, 1, 10])"
      ]
     },
     "execution_count": 3,
     "metadata": {},
     "output_type": "execute_result"
    }
   ],
   "source": [
    "lda_model = gensim.models.ldamodel.LdaModel(corpus=corpus,\n",
    "                                           id2word=id2word,\n",
    "                                           num_topics=10,\n",
    "                                           random_state=100,\n",
    "                                           update_every=1,\n",
    "                                           chunksize=100,\n",
    "                                           passes=10,\n",
    "                                           alpha=\"auto\")\n",
    "\n",
    "pyLDAvis.enable_notebook()\n",
    "vis = gensimvis.prepare(lda_model, corpus, id2word, mds=\"mmds\", R=10)\n",
    "vis"
   ]
  },
  {
   "cell_type": "code",
   "execution_count": 5,
   "id": "3ae24159",
   "metadata": {},
   "outputs": [
    {
     "name": "stdout",
     "output_type": "stream",
     "text": [
      "Coherence Score: 0.5920028175228378\n"
     ]
    }
   ],
   "source": [
    "coherence_model_lda = CoherenceModel(model=lda_model,texts=data_words,dictionary=id2word,coherence='c_v')\n",
    "coherence_lda = coherence_model_lda.get_coherence()\n",
    "print(\"Coherence Score:\",coherence_lda)"
   ]
  },
  {
   "cell_type": "code",
   "execution_count": 2,
   "id": "5428b1c6",
   "metadata": {},
   "outputs": [
    {
     "name": "stdout",
     "output_type": "stream",
     "text": [
      "Number of topic, Coherence Score: 5 0.5773474504991962\n",
      "Number of topic, Coherence Score: 6 0.5535846347896409\n",
      "Number of topic, Coherence Score: 7 0.5648594624562703\n",
      "Number of topic, Coherence Score: 8 0.5815068324556083\n",
      "Number of topic, Coherence Score: 9 0.5929783854870642\n",
      "Number of topic, Coherence Score: 10 0.5920028175228378\n",
      "Number of topic, Coherence Score: 11 0.5984784329640817\n",
      "Number of topic, Coherence Score: 12 0.5791060353392495\n",
      "Number of topic, Coherence Score: 13 0.5756265448687741\n",
      "Number of topic, Coherence Score: 14 0.5673753348824632\n",
      "Number of topic, Coherence Score: 15 0.5552402067560586\n",
      "Number of topic, Coherence Score: 16 0.5476874483573031\n",
      "Number of topic, Coherence Score: 17 0.5657882569034444\n",
      "Number of topic, Coherence Score: 18 0.570652521680472\n",
      "Number of topic, Coherence Score: 19 0.5585318366366931\n",
      "Number of topic, Coherence Score: 20 0.5599337307574468\n"
     ]
    }
   ],
   "source": [
    "# Find the number of topic\n",
    "model_coherence = []\n",
    "for num_topic in range(5,21):\n",
    "    lda_model = gensim.models.ldamodel.LdaModel(corpus=corpus,\n",
    "                                           id2word=id2word,\n",
    "                                           num_topics=num_topic,\n",
    "                                           random_state=100,\n",
    "                                           update_every=1,\n",
    "                                           chunksize=100,\n",
    "                                           passes=10,\n",
    "                                           alpha=\"auto\")\n",
    "    coherence_model_lda = CoherenceModel(model=lda_model,texts=data_words,dictionary=id2word,coherence='c_v')\n",
    "    coherence_lda = coherence_model_lda.get_coherence()\n",
    "    model_coherence.append((num_topic,coherence_lda))\n",
    "    print(\"Number of topic, Coherence Score:\",num_topic,coherence_lda)"
   ]
  },
  {
   "cell_type": "code",
   "execution_count": null,
   "id": "9eb5d4fc",
   "metadata": {},
   "outputs": [],
   "source": []
  }
 ],
 "metadata": {
  "kernelspec": {
   "display_name": "Python 3 (ipykernel)",
   "language": "python",
   "name": "python3"
  },
  "language_info": {
   "codemirror_mode": {
    "name": "ipython",
    "version": 3
   },
   "file_extension": ".py",
   "mimetype": "text/x-python",
   "name": "python",
   "nbconvert_exporter": "python",
   "pygments_lexer": "ipython3",
   "version": "3.7.12"
  }
 },
 "nbformat": 4,
 "nbformat_minor": 5
}
